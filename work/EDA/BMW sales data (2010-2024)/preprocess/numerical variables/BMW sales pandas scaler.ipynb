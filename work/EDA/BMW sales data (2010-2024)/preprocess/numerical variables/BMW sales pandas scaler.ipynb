{
 "cells": [
  {
   "cell_type": "code",
   "execution_count": 1,
   "id": "e3b264bd-a47a-4248-826b-22fe17f64197",
   "metadata": {},
   "outputs": [
    {
     "data": {
      "text/html": [
       "<div>\n",
       "<style scoped>\n",
       "    .dataframe tbody tr th:only-of-type {\n",
       "        vertical-align: middle;\n",
       "    }\n",
       "\n",
       "    .dataframe tbody tr th {\n",
       "        vertical-align: top;\n",
       "    }\n",
       "\n",
       "    .dataframe thead th {\n",
       "        text-align: right;\n",
       "    }\n",
       "</style>\n",
       "<table border=\"1\" class=\"dataframe\">\n",
       "  <thead>\n",
       "    <tr style=\"text-align: right;\">\n",
       "      <th></th>\n",
       "      <th>Model</th>\n",
       "      <th>Year</th>\n",
       "      <th>Region</th>\n",
       "      <th>Color</th>\n",
       "      <th>Fuel_Type</th>\n",
       "      <th>Transmission</th>\n",
       "      <th>Engine_Size_L</th>\n",
       "      <th>Mileage_KM</th>\n",
       "      <th>Price_USD</th>\n",
       "      <th>Sales_Volume</th>\n",
       "      <th>Sales_Classification</th>\n",
       "    </tr>\n",
       "  </thead>\n",
       "  <tbody>\n",
       "    <tr>\n",
       "      <th>0</th>\n",
       "      <td>5 Series</td>\n",
       "      <td>2016</td>\n",
       "      <td>Asia</td>\n",
       "      <td>Red</td>\n",
       "      <td>Petrol</td>\n",
       "      <td>Manual</td>\n",
       "      <td>3.5</td>\n",
       "      <td>151748</td>\n",
       "      <td>98740</td>\n",
       "      <td>8300</td>\n",
       "      <td>High</td>\n",
       "    </tr>\n",
       "    <tr>\n",
       "      <th>1</th>\n",
       "      <td>i8</td>\n",
       "      <td>2013</td>\n",
       "      <td>North America</td>\n",
       "      <td>Red</td>\n",
       "      <td>Hybrid</td>\n",
       "      <td>Automatic</td>\n",
       "      <td>1.6</td>\n",
       "      <td>121671</td>\n",
       "      <td>79219</td>\n",
       "      <td>3428</td>\n",
       "      <td>Low</td>\n",
       "    </tr>\n",
       "    <tr>\n",
       "      <th>2</th>\n",
       "      <td>5 Series</td>\n",
       "      <td>2022</td>\n",
       "      <td>North America</td>\n",
       "      <td>Blue</td>\n",
       "      <td>Petrol</td>\n",
       "      <td>Automatic</td>\n",
       "      <td>4.5</td>\n",
       "      <td>10991</td>\n",
       "      <td>113265</td>\n",
       "      <td>6994</td>\n",
       "      <td>Low</td>\n",
       "    </tr>\n",
       "    <tr>\n",
       "      <th>3</th>\n",
       "      <td>X3</td>\n",
       "      <td>2024</td>\n",
       "      <td>Middle East</td>\n",
       "      <td>Blue</td>\n",
       "      <td>Petrol</td>\n",
       "      <td>Automatic</td>\n",
       "      <td>1.7</td>\n",
       "      <td>27255</td>\n",
       "      <td>60971</td>\n",
       "      <td>4047</td>\n",
       "      <td>Low</td>\n",
       "    </tr>\n",
       "    <tr>\n",
       "      <th>4</th>\n",
       "      <td>7 Series</td>\n",
       "      <td>2020</td>\n",
       "      <td>South America</td>\n",
       "      <td>Black</td>\n",
       "      <td>Diesel</td>\n",
       "      <td>Manual</td>\n",
       "      <td>2.1</td>\n",
       "      <td>122131</td>\n",
       "      <td>49898</td>\n",
       "      <td>3080</td>\n",
       "      <td>Low</td>\n",
       "    </tr>\n",
       "    <tr>\n",
       "      <th>...</th>\n",
       "      <td>...</td>\n",
       "      <td>...</td>\n",
       "      <td>...</td>\n",
       "      <td>...</td>\n",
       "      <td>...</td>\n",
       "      <td>...</td>\n",
       "      <td>...</td>\n",
       "      <td>...</td>\n",
       "      <td>...</td>\n",
       "      <td>...</td>\n",
       "      <td>...</td>\n",
       "    </tr>\n",
       "    <tr>\n",
       "      <th>49995</th>\n",
       "      <td>i3</td>\n",
       "      <td>2014</td>\n",
       "      <td>Asia</td>\n",
       "      <td>Red</td>\n",
       "      <td>Hybrid</td>\n",
       "      <td>Manual</td>\n",
       "      <td>4.6</td>\n",
       "      <td>151030</td>\n",
       "      <td>42932</td>\n",
       "      <td>8182</td>\n",
       "      <td>High</td>\n",
       "    </tr>\n",
       "    <tr>\n",
       "      <th>49996</th>\n",
       "      <td>i3</td>\n",
       "      <td>2023</td>\n",
       "      <td>Middle East</td>\n",
       "      <td>Silver</td>\n",
       "      <td>Electric</td>\n",
       "      <td>Manual</td>\n",
       "      <td>4.2</td>\n",
       "      <td>147396</td>\n",
       "      <td>48714</td>\n",
       "      <td>9816</td>\n",
       "      <td>High</td>\n",
       "    </tr>\n",
       "    <tr>\n",
       "      <th>49997</th>\n",
       "      <td>5 Series</td>\n",
       "      <td>2010</td>\n",
       "      <td>Middle East</td>\n",
       "      <td>Red</td>\n",
       "      <td>Petrol</td>\n",
       "      <td>Automatic</td>\n",
       "      <td>4.5</td>\n",
       "      <td>174939</td>\n",
       "      <td>46126</td>\n",
       "      <td>8280</td>\n",
       "      <td>High</td>\n",
       "    </tr>\n",
       "    <tr>\n",
       "      <th>49998</th>\n",
       "      <td>i3</td>\n",
       "      <td>2020</td>\n",
       "      <td>Asia</td>\n",
       "      <td>White</td>\n",
       "      <td>Electric</td>\n",
       "      <td>Automatic</td>\n",
       "      <td>3.8</td>\n",
       "      <td>3379</td>\n",
       "      <td>58566</td>\n",
       "      <td>9486</td>\n",
       "      <td>High</td>\n",
       "    </tr>\n",
       "    <tr>\n",
       "      <th>49999</th>\n",
       "      <td>X1</td>\n",
       "      <td>2020</td>\n",
       "      <td>North America</td>\n",
       "      <td>Blue</td>\n",
       "      <td>Diesel</td>\n",
       "      <td>Manual</td>\n",
       "      <td>3.3</td>\n",
       "      <td>171003</td>\n",
       "      <td>77492</td>\n",
       "      <td>1764</td>\n",
       "      <td>Low</td>\n",
       "    </tr>\n",
       "  </tbody>\n",
       "</table>\n",
       "<p>50000 rows × 11 columns</p>\n",
       "</div>"
      ],
      "text/plain": [
       "          Model  Year         Region   Color Fuel_Type Transmission  \\\n",
       "0      5 Series  2016           Asia     Red    Petrol       Manual   \n",
       "1            i8  2013  North America     Red    Hybrid    Automatic   \n",
       "2      5 Series  2022  North America    Blue    Petrol    Automatic   \n",
       "3            X3  2024    Middle East    Blue    Petrol    Automatic   \n",
       "4      7 Series  2020  South America   Black    Diesel       Manual   \n",
       "...         ...   ...            ...     ...       ...          ...   \n",
       "49995        i3  2014           Asia     Red    Hybrid       Manual   \n",
       "49996        i3  2023    Middle East  Silver  Electric       Manual   \n",
       "49997  5 Series  2010    Middle East     Red    Petrol    Automatic   \n",
       "49998        i3  2020           Asia   White  Electric    Automatic   \n",
       "49999        X1  2020  North America    Blue    Diesel       Manual   \n",
       "\n",
       "       Engine_Size_L  Mileage_KM  Price_USD  Sales_Volume Sales_Classification  \n",
       "0                3.5      151748      98740          8300                 High  \n",
       "1                1.6      121671      79219          3428                  Low  \n",
       "2                4.5       10991     113265          6994                  Low  \n",
       "3                1.7       27255      60971          4047                  Low  \n",
       "4                2.1      122131      49898          3080                  Low  \n",
       "...              ...         ...        ...           ...                  ...  \n",
       "49995            4.6      151030      42932          8182                 High  \n",
       "49996            4.2      147396      48714          9816                 High  \n",
       "49997            4.5      174939      46126          8280                 High  \n",
       "49998            3.8        3379      58566          9486                 High  \n",
       "49999            3.3      171003      77492          1764                  Low  \n",
       "\n",
       "[50000 rows x 11 columns]"
      ]
     },
     "execution_count": 1,
     "metadata": {},
     "output_type": "execute_result"
    }
   ],
   "source": [
    "import pandas as pd\n",
    "\n",
    "bmw_data_set = pd.read_csv('../../../../datasets/BMW sales data (2010-2024).csv')\n",
    "bmw_data_set"
   ]
  },
  {
   "cell_type": "code",
   "execution_count": 2,
   "id": "14218514-e948-4be6-bc23-21b283596dd7",
   "metadata": {},
   "outputs": [
    {
     "data": {
      "text/html": [
       "<div>\n",
       "<style scoped>\n",
       "    .dataframe tbody tr th:only-of-type {\n",
       "        vertical-align: middle;\n",
       "    }\n",
       "\n",
       "    .dataframe tbody tr th {\n",
       "        vertical-align: top;\n",
       "    }\n",
       "\n",
       "    .dataframe thead th {\n",
       "        text-align: right;\n",
       "    }\n",
       "</style>\n",
       "<table border=\"1\" class=\"dataframe\">\n",
       "  <thead>\n",
       "    <tr style=\"text-align: right;\">\n",
       "      <th></th>\n",
       "      <th>Year</th>\n",
       "      <th>Engine_Size_L</th>\n",
       "      <th>Mileage_KM</th>\n",
       "      <th>Price_USD</th>\n",
       "      <th>Sales_Volume</th>\n",
       "    </tr>\n",
       "  </thead>\n",
       "  <tbody>\n",
       "    <tr>\n",
       "      <th>count</th>\n",
       "      <td>50000.000000</td>\n",
       "      <td>50000.000000</td>\n",
       "      <td>50000.000000</td>\n",
       "      <td>50000.000000</td>\n",
       "      <td>50000.000000</td>\n",
       "    </tr>\n",
       "    <tr>\n",
       "      <th>mean</th>\n",
       "      <td>2017.015700</td>\n",
       "      <td>3.247180</td>\n",
       "      <td>100307.203140</td>\n",
       "      <td>75034.600900</td>\n",
       "      <td>5067.514680</td>\n",
       "    </tr>\n",
       "    <tr>\n",
       "      <th>std</th>\n",
       "      <td>4.324459</td>\n",
       "      <td>1.009078</td>\n",
       "      <td>57941.509344</td>\n",
       "      <td>25998.248882</td>\n",
       "      <td>2856.767125</td>\n",
       "    </tr>\n",
       "    <tr>\n",
       "      <th>min</th>\n",
       "      <td>2010.000000</td>\n",
       "      <td>1.500000</td>\n",
       "      <td>3.000000</td>\n",
       "      <td>30000.000000</td>\n",
       "      <td>100.000000</td>\n",
       "    </tr>\n",
       "    <tr>\n",
       "      <th>25%</th>\n",
       "      <td>2013.000000</td>\n",
       "      <td>2.400000</td>\n",
       "      <td>50178.000000</td>\n",
       "      <td>52434.750000</td>\n",
       "      <td>2588.000000</td>\n",
       "    </tr>\n",
       "    <tr>\n",
       "      <th>50%</th>\n",
       "      <td>2017.000000</td>\n",
       "      <td>3.200000</td>\n",
       "      <td>100388.500000</td>\n",
       "      <td>75011.500000</td>\n",
       "      <td>5087.000000</td>\n",
       "    </tr>\n",
       "    <tr>\n",
       "      <th>75%</th>\n",
       "      <td>2021.000000</td>\n",
       "      <td>4.100000</td>\n",
       "      <td>150630.250000</td>\n",
       "      <td>97628.250000</td>\n",
       "      <td>7537.250000</td>\n",
       "    </tr>\n",
       "    <tr>\n",
       "      <th>max</th>\n",
       "      <td>2024.000000</td>\n",
       "      <td>5.000000</td>\n",
       "      <td>199996.000000</td>\n",
       "      <td>119998.000000</td>\n",
       "      <td>9999.000000</td>\n",
       "    </tr>\n",
       "  </tbody>\n",
       "</table>\n",
       "</div>"
      ],
      "text/plain": [
       "               Year  Engine_Size_L     Mileage_KM      Price_USD  Sales_Volume\n",
       "count  50000.000000   50000.000000   50000.000000   50000.000000  50000.000000\n",
       "mean    2017.015700       3.247180  100307.203140   75034.600900   5067.514680\n",
       "std        4.324459       1.009078   57941.509344   25998.248882   2856.767125\n",
       "min     2010.000000       1.500000       3.000000   30000.000000    100.000000\n",
       "25%     2013.000000       2.400000   50178.000000   52434.750000   2588.000000\n",
       "50%     2017.000000       3.200000  100388.500000   75011.500000   5087.000000\n",
       "75%     2021.000000       4.100000  150630.250000   97628.250000   7537.250000\n",
       "max     2024.000000       5.000000  199996.000000  119998.000000   9999.000000"
      ]
     },
     "execution_count": 2,
     "metadata": {},
     "output_type": "execute_result"
    }
   ],
   "source": [
    "bmw_data_set.describe()"
   ]
  },
  {
   "cell_type": "markdown",
   "id": "eaf84079-13f0-4f92-acfc-2004e2bd9a2b",
   "metadata": {},
   "source": [
    "Leaving out Year because the years do not need to be scaled\n",
    "Also leaving out Price_USD and Sales_Volume since they can be future targets to predict"
   ]
  },
  {
   "cell_type": "code",
   "execution_count": 3,
   "id": "5d2ccdae-52f9-46d3-9469-e3f300f0dc6b",
   "metadata": {},
   "outputs": [
    {
     "data": {
      "text/plain": [
       "count    50000.000000\n",
       "mean         3.247180\n",
       "std          1.009078\n",
       "min          1.500000\n",
       "25%          2.400000\n",
       "50%          3.200000\n",
       "75%          4.100000\n",
       "max          5.000000\n",
       "Name: Engine_Size_L, dtype: float64"
      ]
     },
     "execution_count": 3,
     "metadata": {},
     "output_type": "execute_result"
    }
   ],
   "source": [
    "bmw_data_set['Engine_Size_L'].describe()"
   ]
  },
  {
   "cell_type": "code",
   "execution_count": 4,
   "id": "6b0b6d71-db94-4b7e-8b10-fa3f2da07b41",
   "metadata": {},
   "outputs": [
    {
     "data": {
      "text/plain": [
       "0        3.5\n",
       "1        1.6\n",
       "2        4.5\n",
       "3        1.7\n",
       "4        2.1\n",
       "        ... \n",
       "49995    4.6\n",
       "49996    4.2\n",
       "49997    4.5\n",
       "49998    3.8\n",
       "49999    3.3\n",
       "Name: Engine_Size_L, Length: 50000, dtype: float64"
      ]
     },
     "execution_count": 4,
     "metadata": {},
     "output_type": "execute_result"
    }
   ],
   "source": [
    "bmw_data_set['Engine_Size_L']"
   ]
  },
  {
   "cell_type": "markdown",
   "id": "2ff643b1-aeca-476b-b883-906aa30136cf",
   "metadata": {},
   "source": [
    "Also leaving out the Engine_Size_L since its variance it is not big and the values are pretty much similar"
   ]
  },
  {
   "cell_type": "code",
   "execution_count": 5,
   "id": "46cdf1b1-7625-406f-9679-8bfe267b36ee",
   "metadata": {},
   "outputs": [
    {
     "data": {
      "text/plain": [
       "count     50000.000000\n",
       "mean     100307.203140\n",
       "std       57941.509344\n",
       "min           3.000000\n",
       "25%       50178.000000\n",
       "50%      100388.500000\n",
       "75%      150630.250000\n",
       "max      199996.000000\n",
       "Name: Mileage_KM, dtype: float64"
      ]
     },
     "execution_count": 5,
     "metadata": {},
     "output_type": "execute_result"
    }
   ],
   "source": [
    "bmw_data_set['Mileage_KM'].describe()"
   ]
  },
  {
   "cell_type": "code",
   "execution_count": 6,
   "id": "962c176c-2dd0-4dbb-b4df-671a5299e239",
   "metadata": {},
   "outputs": [
    {
     "data": {
      "text/plain": [
       "0        151748\n",
       "1        121671\n",
       "2         10991\n",
       "3         27255\n",
       "4        122131\n",
       "          ...  \n",
       "49995    151030\n",
       "49996    147396\n",
       "49997    174939\n",
       "49998      3379\n",
       "49999    171003\n",
       "Name: Mileage_KM, Length: 50000, dtype: int64"
      ]
     },
     "execution_count": 6,
     "metadata": {},
     "output_type": "execute_result"
    }
   ],
   "source": [
    "bmw_data_set['Mileage_KM']"
   ]
  },
  {
   "cell_type": "markdown",
   "id": "6a4d9e71-2d10-4495-a079-5512dea02baf",
   "metadata": {},
   "source": [
    "### Min max scale"
   ]
  },
  {
   "cell_type": "code",
   "execution_count": 7,
   "id": "51c02a9a-d639-437d-87cd-732a207ff134",
   "metadata": {},
   "outputs": [
    {
     "data": {
      "text/plain": [
       "0        0.758752\n",
       "1        0.608361\n",
       "2        0.054942\n",
       "3        0.136265\n",
       "4        0.610661\n",
       "           ...   \n",
       "49995    0.755161\n",
       "49996    0.736991\n",
       "49997    0.874711\n",
       "49998    0.016881\n",
       "49999    0.855030\n",
       "Name: Mileage_KM_min_max_scale, Length: 50000, dtype: float64"
      ]
     },
     "execution_count": 7,
     "metadata": {},
     "output_type": "execute_result"
    }
   ],
   "source": [
    "bmw_data_set['Mileage_KM_min_max_scale'] = (bmw_data_set['Mileage_KM'] - bmw_data_set['Mileage_KM'].min()) / (bmw_data_set['Mileage_KM'].max() - bmw_data_set['Mileage_KM'].min()) \n",
    "bmw_data_set['Mileage_KM_min_max_scale']"
   ]
  },
  {
   "cell_type": "code",
   "execution_count": 8,
   "id": "b1e8265b-ba3e-4614-b02e-e6f3eed6b971",
   "metadata": {},
   "outputs": [
    {
     "data": {
      "text/plain": [
       "count    50000.000000\n",
       "mean         0.501539\n",
       "std          0.289718\n",
       "min          0.000000\n",
       "25%          0.250884\n",
       "50%          0.501945\n",
       "75%          0.753163\n",
       "max          1.000000\n",
       "Name: Mileage_KM_min_max_scale, dtype: float64"
      ]
     },
     "execution_count": 8,
     "metadata": {},
     "output_type": "execute_result"
    }
   ],
   "source": [
    "bmw_data_set['Mileage_KM_min_max_scale'].describe()"
   ]
  },
  {
   "cell_type": "markdown",
   "id": "73a32842-6a1d-4d58-ad93-38ae1af1f902",
   "metadata": {},
   "source": [
    "### Z-Score AKA StandardScale"
   ]
  },
  {
   "cell_type": "code",
   "execution_count": 9,
   "id": "76a1b4a3-54f7-48a3-ac88-b2a2e70f0be4",
   "metadata": {},
   "outputs": [
    {
     "data": {
      "text/plain": [
       "0        0.887806\n",
       "1        0.368713\n",
       "2       -1.541489\n",
       "3       -1.260792\n",
       "4        0.376652\n",
       "           ...   \n",
       "49995    0.875414\n",
       "49996    0.812695\n",
       "49997    1.288054\n",
       "49998   -1.672863\n",
       "49999    1.220123\n",
       "Name: Mileage_KM_z_score_scale, Length: 50000, dtype: float64"
      ]
     },
     "execution_count": 9,
     "metadata": {},
     "output_type": "execute_result"
    }
   ],
   "source": [
    "bmw_data_set['Mileage_KM_z_score_scale'] = (bmw_data_set['Mileage_KM'] - bmw_data_set['Mileage_KM'].mean()) / bmw_data_set['Mileage_KM'].std()\n",
    "bmw_data_set['Mileage_KM_z_score_scale']"
   ]
  },
  {
   "cell_type": "code",
   "execution_count": 10,
   "id": "8773b659-00b7-484a-a6ca-f3853e52862d",
   "metadata": {},
   "outputs": [
    {
     "data": {
      "text/plain": [
       "count    5.000000e+04\n",
       "mean     3.812062e-17\n",
       "std      1.000000e+00\n",
       "min     -1.731129e+00\n",
       "25%     -8.651691e-01\n",
       "50%      1.403085e-03\n",
       "75%      8.685146e-01\n",
       "max      1.720507e+00\n",
       "Name: Mileage_KM_z_score_scale, dtype: float64"
      ]
     },
     "execution_count": 10,
     "metadata": {},
     "output_type": "execute_result"
    }
   ],
   "source": [
    "bmw_data_set['Mileage_KM_z_score_scale'].describe()"
   ]
  }
 ],
 "metadata": {
  "kernelspec": {
   "display_name": "Python 3 (ipykernel)",
   "language": "python",
   "name": "python3"
  },
  "language_info": {
   "codemirror_mode": {
    "name": "ipython",
    "version": 3
   },
   "file_extension": ".py",
   "mimetype": "text/x-python",
   "name": "python",
   "nbconvert_exporter": "python",
   "pygments_lexer": "ipython3",
   "version": "3.11.6"
  }
 },
 "nbformat": 4,
 "nbformat_minor": 5
}

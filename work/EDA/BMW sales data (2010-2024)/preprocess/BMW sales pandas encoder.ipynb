{
 "cells": [
  {
   "cell_type": "code",
   "execution_count": 20,
   "id": "0589de0e-e3fc-4231-bab0-9357988ed11b",
   "metadata": {},
   "outputs": [
    {
     "name": "stdout",
     "output_type": "stream",
     "text": [
      "<class 'pandas.core.frame.DataFrame'>\n",
      "RangeIndex: 50000 entries, 0 to 49999\n",
      "Data columns (total 11 columns):\n",
      " #   Column                Non-Null Count  Dtype  \n",
      "---  ------                --------------  -----  \n",
      " 0   Model                 50000 non-null  object \n",
      " 1   Year                  50000 non-null  int64  \n",
      " 2   Region                50000 non-null  object \n",
      " 3   Color                 50000 non-null  object \n",
      " 4   Fuel_Type             50000 non-null  object \n",
      " 5   Transmission          50000 non-null  object \n",
      " 6   Engine_Size_L         50000 non-null  float64\n",
      " 7   Mileage_KM            50000 non-null  int64  \n",
      " 8   Price_USD             50000 non-null  int64  \n",
      " 9   Sales_Volume          50000 non-null  int64  \n",
      " 10  Sales_Classification  50000 non-null  object \n",
      "dtypes: float64(1), int64(4), object(6)\n",
      "memory usage: 4.2+ MB\n"
     ]
    }
   ],
   "source": [
    "import pandas as pd\n",
    "\n",
    "bmw_sales_data = pd.read_csv('../../../datasets/BMW sales data (2010-2024).csv')\n",
    "\n",
    "bmw_sales_data.info()"
   ]
  },
  {
   "cell_type": "code",
   "execution_count": 2,
   "id": "e6f05e8d-bb17-4606-94c4-71833adba431",
   "metadata": {},
   "outputs": [],
   "source": [
    "cat_cols = [col for col in bmw_sales_data.columns if bmw_sales_data[col].dtype == 'object']"
   ]
  },
  {
   "cell_type": "code",
   "execution_count": 3,
   "id": "b4f06c52-afb9-4998-8b6c-df43d79af4a0",
   "metadata": {},
   "outputs": [
    {
     "data": {
      "text/html": [
       "<div>\n",
       "<style scoped>\n",
       "    .dataframe tbody tr th:only-of-type {\n",
       "        vertical-align: middle;\n",
       "    }\n",
       "\n",
       "    .dataframe tbody tr th {\n",
       "        vertical-align: top;\n",
       "    }\n",
       "\n",
       "    .dataframe thead th {\n",
       "        text-align: right;\n",
       "    }\n",
       "</style>\n",
       "<table border=\"1\" class=\"dataframe\">\n",
       "  <thead>\n",
       "    <tr style=\"text-align: right;\">\n",
       "      <th></th>\n",
       "      <th>Model</th>\n",
       "      <th>Region</th>\n",
       "      <th>Color</th>\n",
       "      <th>Fuel_Type</th>\n",
       "      <th>Transmission</th>\n",
       "      <th>Sales_Classification</th>\n",
       "    </tr>\n",
       "  </thead>\n",
       "  <tbody>\n",
       "    <tr>\n",
       "      <th>count</th>\n",
       "      <td>50000</td>\n",
       "      <td>50000</td>\n",
       "      <td>50000</td>\n",
       "      <td>50000</td>\n",
       "      <td>50000</td>\n",
       "      <td>50000</td>\n",
       "    </tr>\n",
       "    <tr>\n",
       "      <th>unique</th>\n",
       "      <td>11</td>\n",
       "      <td>6</td>\n",
       "      <td>6</td>\n",
       "      <td>4</td>\n",
       "      <td>2</td>\n",
       "      <td>2</td>\n",
       "    </tr>\n",
       "    <tr>\n",
       "      <th>top</th>\n",
       "      <td>7 Series</td>\n",
       "      <td>Asia</td>\n",
       "      <td>Red</td>\n",
       "      <td>Hybrid</td>\n",
       "      <td>Manual</td>\n",
       "      <td>Low</td>\n",
       "    </tr>\n",
       "    <tr>\n",
       "      <th>freq</th>\n",
       "      <td>4666</td>\n",
       "      <td>8454</td>\n",
       "      <td>8463</td>\n",
       "      <td>12716</td>\n",
       "      <td>25154</td>\n",
       "      <td>34754</td>\n",
       "    </tr>\n",
       "  </tbody>\n",
       "</table>\n",
       "</div>"
      ],
      "text/plain": [
       "           Model Region  Color Fuel_Type Transmission Sales_Classification\n",
       "count      50000  50000  50000     50000        50000                50000\n",
       "unique        11      6      6         4            2                    2\n",
       "top     7 Series   Asia    Red    Hybrid       Manual                  Low\n",
       "freq        4666   8454   8463     12716        25154                34754"
      ]
     },
     "execution_count": 3,
     "metadata": {},
     "output_type": "execute_result"
    }
   ],
   "source": [
    "bmw_sales_data[cat_cols].describe()"
   ]
  },
  {
   "cell_type": "code",
   "execution_count": 4,
   "id": "1765cd07-dbfc-409d-b22d-8edf62905d82",
   "metadata": {},
   "outputs": [
    {
     "data": {
      "text/plain": [
       "Model     Region         Color   Fuel_Type  Transmission  Sales_Classification\n",
       "7 Series  South America  Silver  Hybrid     Automatic     Low                     23\n",
       "          Europe         Red     Electric   Manual        Low                     22\n",
       "X1        Europe         Black   Petrol     Manual        Low                     22\n",
       "M5        North America  Red     Hybrid     Manual        Low                     22\n",
       "i3        Asia           Grey    Diesel     Automatic     Low                     22\n",
       "                                                                                  ..\n",
       "i8        Africa         White   Electric   Automatic     High                     1\n",
       "X6        Europe         Silver  Hybrid     Automatic     High                     1\n",
       "X3        Europe         Grey    Hybrid     Manual        High                     1\n",
       "X5        South America  Grey    Hybrid     Automatic     High                     1\n",
       "X6        Middle East    Blue    Petrol     Automatic     High                     1\n",
       "Name: count, Length: 6311, dtype: int64"
      ]
     },
     "execution_count": 4,
     "metadata": {},
     "output_type": "execute_result"
    }
   ],
   "source": [
    "bmw_sales_data[cat_cols].value_counts()"
   ]
  },
  {
   "cell_type": "code",
   "execution_count": 5,
   "id": "a78df45f-69e3-43c3-8c07-36c39fdbe538",
   "metadata": {},
   "outputs": [
    {
     "name": "stdout",
     "output_type": "stream",
     "text": [
      "cat_col: Model\n",
      "values: ['5 Series' 'i8' 'X3' '7 Series' 'M5' '3 Series' 'X1' 'M3' 'X5' 'i3' 'X6']\n",
      "cat_col: Region\n",
      "values: ['Asia' 'North America' 'Middle East' 'South America' 'Europe' 'Africa']\n",
      "cat_col: Color\n",
      "values: ['Red' 'Blue' 'Black' 'Silver' 'White' 'Grey']\n",
      "cat_col: Fuel_Type\n",
      "values: ['Petrol' 'Hybrid' 'Diesel' 'Electric']\n",
      "cat_col: Transmission\n",
      "values: ['Manual' 'Automatic']\n",
      "cat_col: Sales_Classification\n",
      "values: ['High' 'Low']\n"
     ]
    }
   ],
   "source": [
    "for cat_col in cat_cols:\n",
    "    print(f'cat_col: {cat_col}')\n",
    "    print(f'values: {bmw_sales_data[cat_col].unique()}')"
   ]
  },
  {
   "cell_type": "code",
   "execution_count": 6,
   "id": "a71a2831-7225-464d-b5c6-8b010d2a3386",
   "metadata": {},
   "outputs": [],
   "source": [
    "bmw_sales_data['Transmission'] = bmw_sales_data['Transmission'].factorize()[0]"
   ]
  },
  {
   "cell_type": "code",
   "execution_count": 7,
   "id": "06ed749c-c6f0-409c-92b7-74118daea98c",
   "metadata": {},
   "outputs": [
    {
     "data": {
      "text/plain": [
       "0        0\n",
       "1        1\n",
       "2        1\n",
       "3        1\n",
       "4        0\n",
       "        ..\n",
       "49995    0\n",
       "49996    0\n",
       "49997    1\n",
       "49998    1\n",
       "49999    0\n",
       "Name: Transmission, Length: 50000, dtype: int64"
      ]
     },
     "execution_count": 7,
     "metadata": {},
     "output_type": "execute_result"
    }
   ],
   "source": [
    "bmw_sales_data['Transmission']"
   ]
  },
  {
   "cell_type": "code",
   "execution_count": 8,
   "id": "f8417777-d8d1-453a-aa5d-0b38c85f5e8a",
   "metadata": {},
   "outputs": [],
   "source": [
    "bmw_sales_data['Sales_Classification'] = bmw_sales_data['Sales_Classification'].factorize()[0]"
   ]
  },
  {
   "cell_type": "code",
   "execution_count": 9,
   "id": "304a26f2-85d3-4f9a-b38c-f04e9c9bcd64",
   "metadata": {},
   "outputs": [
    {
     "data": {
      "text/plain": [
       "0        0\n",
       "1        1\n",
       "2        1\n",
       "3        1\n",
       "4        1\n",
       "        ..\n",
       "49995    0\n",
       "49996    0\n",
       "49997    0\n",
       "49998    0\n",
       "49999    1\n",
       "Name: Sales_Classification, Length: 50000, dtype: int64"
      ]
     },
     "execution_count": 9,
     "metadata": {},
     "output_type": "execute_result"
    }
   ],
   "source": [
    "bmw_sales_data['Sales_Classification']"
   ]
  },
  {
   "cell_type": "code",
   "execution_count": 19,
   "id": "a323fda6-e1b1-4a76-89df-9e4b4a1ec978",
   "metadata": {},
   "outputs": [
    {
     "data": {
      "text/plain": [
       "['Transmission', 'Sales_Classification']"
      ]
     },
     "execution_count": 19,
     "metadata": {},
     "output_type": "execute_result"
    }
   ],
   "source": [
    "cat_cols_low_cardinality = [col for col in bmw_sales_data.columns if bmw_sales_data[col].dtype == 'object'\n",
    "                                and len(bmw_sales_data[col].unique()) <= 2]\n",
    "cat_cols_low_cardinality"
   ]
  },
  {
   "cell_type": "code",
   "execution_count": 22,
   "id": "6276fc88-11e9-4069-94a3-dc468b57e74c",
   "metadata": {},
   "outputs": [
    {
     "data": {
      "text/html": [
       "<div>\n",
       "<style scoped>\n",
       "    .dataframe tbody tr th:only-of-type {\n",
       "        vertical-align: middle;\n",
       "    }\n",
       "\n",
       "    .dataframe tbody tr th {\n",
       "        vertical-align: top;\n",
       "    }\n",
       "\n",
       "    .dataframe thead th {\n",
       "        text-align: right;\n",
       "    }\n",
       "</style>\n",
       "<table border=\"1\" class=\"dataframe\">\n",
       "  <thead>\n",
       "    <tr style=\"text-align: right;\">\n",
       "      <th></th>\n",
       "      <th>Transmission</th>\n",
       "      <th>Sales_Classification</th>\n",
       "    </tr>\n",
       "  </thead>\n",
       "  <tbody>\n",
       "    <tr>\n",
       "      <th>0</th>\n",
       "      <td>0</td>\n",
       "      <td>0</td>\n",
       "    </tr>\n",
       "    <tr>\n",
       "      <th>1</th>\n",
       "      <td>1</td>\n",
       "      <td>1</td>\n",
       "    </tr>\n",
       "    <tr>\n",
       "      <th>2</th>\n",
       "      <td>1</td>\n",
       "      <td>1</td>\n",
       "    </tr>\n",
       "    <tr>\n",
       "      <th>3</th>\n",
       "      <td>1</td>\n",
       "      <td>1</td>\n",
       "    </tr>\n",
       "    <tr>\n",
       "      <th>4</th>\n",
       "      <td>0</td>\n",
       "      <td>1</td>\n",
       "    </tr>\n",
       "    <tr>\n",
       "      <th>...</th>\n",
       "      <td>...</td>\n",
       "      <td>...</td>\n",
       "    </tr>\n",
       "    <tr>\n",
       "      <th>49995</th>\n",
       "      <td>0</td>\n",
       "      <td>0</td>\n",
       "    </tr>\n",
       "    <tr>\n",
       "      <th>49996</th>\n",
       "      <td>0</td>\n",
       "      <td>0</td>\n",
       "    </tr>\n",
       "    <tr>\n",
       "      <th>49997</th>\n",
       "      <td>1</td>\n",
       "      <td>0</td>\n",
       "    </tr>\n",
       "    <tr>\n",
       "      <th>49998</th>\n",
       "      <td>1</td>\n",
       "      <td>0</td>\n",
       "    </tr>\n",
       "    <tr>\n",
       "      <th>49999</th>\n",
       "      <td>0</td>\n",
       "      <td>1</td>\n",
       "    </tr>\n",
       "  </tbody>\n",
       "</table>\n",
       "<p>50000 rows × 2 columns</p>\n",
       "</div>"
      ],
      "text/plain": [
       "       Transmission  Sales_Classification\n",
       "0                 0                     0\n",
       "1                 1                     1\n",
       "2                 1                     1\n",
       "3                 1                     1\n",
       "4                 0                     1\n",
       "...             ...                   ...\n",
       "49995             0                     0\n",
       "49996             0                     0\n",
       "49997             1                     0\n",
       "49998             1                     0\n",
       "49999             0                     1\n",
       "\n",
       "[50000 rows x 2 columns]"
      ]
     },
     "execution_count": 22,
     "metadata": {},
     "output_type": "execute_result"
    }
   ],
   "source": [
    "for cat_col_low_cardinality in cat_cols_low_cardinality:\n",
    "    bmw_sales_data[cat_col_low_cardinality] = bmw_sales_data[cat_col_low_cardinality].factorize()[0]\n",
    "bmw_sales_data[cat_cols_low_cardinality]"
   ]
  }
 ],
 "metadata": {
  "kernelspec": {
   "display_name": "Python 3 (ipykernel)",
   "language": "python",
   "name": "python3"
  },
  "language_info": {
   "codemirror_mode": {
    "name": "ipython",
    "version": 3
   },
   "file_extension": ".py",
   "mimetype": "text/x-python",
   "name": "python",
   "nbconvert_exporter": "python",
   "pygments_lexer": "ipython3",
   "version": "3.11.6"
  }
 },
 "nbformat": 4,
 "nbformat_minor": 5
}

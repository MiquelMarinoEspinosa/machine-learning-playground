{
 "cells": [
  {
   "cell_type": "code",
   "execution_count": null,
   "id": "873c4b32-befe-4faa-b332-1b4d89aead81",
   "metadata": {},
   "outputs": [],
   "source": [
    "#kaggle code to load the dataset\n",
    "#import pandas as pd # data processing, CSV file I/O (e.g. pd.read_csv)\n",
    "\n",
    "#df=pd.read_csv('/kaggle/input/mobiles-dataset-2025/Mobiles Dataset (2025).csv',encoding='ISO-8859-1')\n",
    "#df.head()"
   ]
  },
  {
   "cell_type": "code",
   "execution_count": 1,
   "id": "3494215e",
   "metadata": {
    "papermill": {
     "duration": 0.070212,
     "end_time": "2025-03-20T16:31:33.943263",
     "exception": false,
     "start_time": "2025-03-20T16:31:33.873051",
     "status": "completed"
    },
    "tags": []
   },
   "outputs": [
    {
     "data": {
      "text/html": [
       "<div>\n",
       "<style scoped>\n",
       "    .dataframe tbody tr th:only-of-type {\n",
       "        vertical-align: middle;\n",
       "    }\n",
       "\n",
       "    .dataframe tbody tr th {\n",
       "        vertical-align: top;\n",
       "    }\n",
       "\n",
       "    .dataframe thead th {\n",
       "        text-align: right;\n",
       "    }\n",
       "</style>\n",
       "<table border=\"1\" class=\"dataframe\">\n",
       "  <thead>\n",
       "    <tr style=\"text-align: right;\">\n",
       "      <th></th>\n",
       "      <th>Company Name</th>\n",
       "      <th>Model Name</th>\n",
       "      <th>Mobile Weight</th>\n",
       "      <th>RAM</th>\n",
       "      <th>Front Camera</th>\n",
       "      <th>Back Camera</th>\n",
       "      <th>Processor</th>\n",
       "      <th>Battery Capacity</th>\n",
       "      <th>Screen Size</th>\n",
       "      <th>Launched Price (Pakistan)</th>\n",
       "      <th>Launched Price (India)</th>\n",
       "      <th>Launched Price (China)</th>\n",
       "      <th>Launched Price (USA)</th>\n",
       "      <th>Launched Price (Dubai)</th>\n",
       "      <th>Launched Year</th>\n",
       "    </tr>\n",
       "  </thead>\n",
       "  <tbody>\n",
       "    <tr>\n",
       "      <th>0</th>\n",
       "      <td>Apple</td>\n",
       "      <td>iPhone 16 128GB</td>\n",
       "      <td>174g</td>\n",
       "      <td>6GB</td>\n",
       "      <td>12MP</td>\n",
       "      <td>48MP</td>\n",
       "      <td>A17 Bionic</td>\n",
       "      <td>3,600mAh</td>\n",
       "      <td>6.1 inches</td>\n",
       "      <td>PKR 224,999</td>\n",
       "      <td>INR 79,999</td>\n",
       "      <td>CNY 5,799</td>\n",
       "      <td>USD 799</td>\n",
       "      <td>AED 2,799</td>\n",
       "      <td>2024</td>\n",
       "    </tr>\n",
       "    <tr>\n",
       "      <th>1</th>\n",
       "      <td>Apple</td>\n",
       "      <td>iPhone 16 256GB</td>\n",
       "      <td>174g</td>\n",
       "      <td>6GB</td>\n",
       "      <td>12MP</td>\n",
       "      <td>48MP</td>\n",
       "      <td>A17 Bionic</td>\n",
       "      <td>3,600mAh</td>\n",
       "      <td>6.1 inches</td>\n",
       "      <td>PKR 234,999</td>\n",
       "      <td>INR 84,999</td>\n",
       "      <td>CNY 6,099</td>\n",
       "      <td>USD 849</td>\n",
       "      <td>AED 2,999</td>\n",
       "      <td>2024</td>\n",
       "    </tr>\n",
       "    <tr>\n",
       "      <th>2</th>\n",
       "      <td>Apple</td>\n",
       "      <td>iPhone 16 512GB</td>\n",
       "      <td>174g</td>\n",
       "      <td>6GB</td>\n",
       "      <td>12MP</td>\n",
       "      <td>48MP</td>\n",
       "      <td>A17 Bionic</td>\n",
       "      <td>3,600mAh</td>\n",
       "      <td>6.1 inches</td>\n",
       "      <td>PKR 244,999</td>\n",
       "      <td>INR 89,999</td>\n",
       "      <td>CNY 6,499</td>\n",
       "      <td>USD 899</td>\n",
       "      <td>AED 3,199</td>\n",
       "      <td>2024</td>\n",
       "    </tr>\n",
       "    <tr>\n",
       "      <th>3</th>\n",
       "      <td>Apple</td>\n",
       "      <td>iPhone 16 Plus 128GB</td>\n",
       "      <td>203g</td>\n",
       "      <td>6GB</td>\n",
       "      <td>12MP</td>\n",
       "      <td>48MP</td>\n",
       "      <td>A17 Bionic</td>\n",
       "      <td>4,200mAh</td>\n",
       "      <td>6.7 inches</td>\n",
       "      <td>PKR 249,999</td>\n",
       "      <td>INR 89,999</td>\n",
       "      <td>CNY 6,199</td>\n",
       "      <td>USD 899</td>\n",
       "      <td>AED 3,199</td>\n",
       "      <td>2024</td>\n",
       "    </tr>\n",
       "    <tr>\n",
       "      <th>4</th>\n",
       "      <td>Apple</td>\n",
       "      <td>iPhone 16 Plus 256GB</td>\n",
       "      <td>203g</td>\n",
       "      <td>6GB</td>\n",
       "      <td>12MP</td>\n",
       "      <td>48MP</td>\n",
       "      <td>A17 Bionic</td>\n",
       "      <td>4,200mAh</td>\n",
       "      <td>6.7 inches</td>\n",
       "      <td>PKR 259,999</td>\n",
       "      <td>INR 94,999</td>\n",
       "      <td>CNY 6,499</td>\n",
       "      <td>USD 949</td>\n",
       "      <td>AED 3,399</td>\n",
       "      <td>2024</td>\n",
       "    </tr>\n",
       "  </tbody>\n",
       "</table>\n",
       "</div>"
      ],
      "text/plain": [
       "  Company Name            Model Name Mobile Weight  RAM Front Camera  \\\n",
       "0        Apple       iPhone 16 128GB          174g  6GB         12MP   \n",
       "1        Apple       iPhone 16 256GB          174g  6GB         12MP   \n",
       "2        Apple       iPhone 16 512GB          174g  6GB         12MP   \n",
       "3        Apple  iPhone 16 Plus 128GB          203g  6GB         12MP   \n",
       "4        Apple  iPhone 16 Plus 256GB          203g  6GB         12MP   \n",
       "\n",
       "  Back Camera   Processor Battery Capacity Screen Size  \\\n",
       "0        48MP  A17 Bionic         3,600mAh  6.1 inches   \n",
       "1        48MP  A17 Bionic         3,600mAh  6.1 inches   \n",
       "2        48MP  A17 Bionic         3,600mAh  6.1 inches   \n",
       "3        48MP  A17 Bionic         4,200mAh  6.7 inches   \n",
       "4        48MP  A17 Bionic         4,200mAh  6.7 inches   \n",
       "\n",
       "  Launched Price (Pakistan) Launched Price (India) Launched Price (China)  \\\n",
       "0               PKR 224,999             INR 79,999              CNY 5,799   \n",
       "1               PKR 234,999             INR 84,999              CNY 6,099   \n",
       "2               PKR 244,999             INR 89,999              CNY 6,499   \n",
       "3               PKR 249,999             INR 89,999              CNY 6,199   \n",
       "4               PKR 259,999             INR 94,999              CNY 6,499   \n",
       "\n",
       "  Launched Price (USA) Launched Price (Dubai)  Launched Year  \n",
       "0              USD 799              AED 2,799           2024  \n",
       "1              USD 849              AED 2,999           2024  \n",
       "2              USD 899              AED 3,199           2024  \n",
       "3              USD 899              AED 3,199           2024  \n",
       "4              USD 949              AED 3,399           2024  "
      ]
     },
     "execution_count": 1,
     "metadata": {},
     "output_type": "execute_result"
    }
   ],
   "source": [
    "import pandas as pd # data processing, CSV file I/O (e.g. pd.read_csv)\n",
    "\n",
    "df=pd.read_csv('../datasets/mobiles-dataset-2025/Mobiles Dataset (2025).csv',encoding='ISO-8859-1')\n",
    "df.head()"
   ]
  },
  {
   "cell_type": "code",
   "execution_count": 2,
   "id": "300672a2",
   "metadata": {
    "papermill": {
     "duration": 0.018859,
     "end_time": "2025-03-20T16:31:33.966196",
     "exception": false,
     "start_time": "2025-03-20T16:31:33.947337",
     "status": "completed"
    },
    "tags": []
   },
   "outputs": [
    {
     "data": {
      "text/plain": [
       "148    INR 1,04,999\n",
       "170    INR 1,09,999\n",
       "166    INR 1,14,999\n",
       "788      INR 10,499\n",
       "780      INR 10,499\n",
       "           ...     \n",
       "366      INR 99,999\n",
       "164      INR 99,999\n",
       "167      INR 99,999\n",
       "18       INR 99,999\n",
       "641      INR 99,999\n",
       "Name: Launched Price (India), Length: 930, dtype: object"
      ]
     },
     "execution_count": 2,
     "metadata": {},
     "output_type": "execute_result"
    }
   ],
   "source": [
    "#Baseline score\n",
    "\n",
    "launched_price_india = df['Launched Price (India)'].map(lambda price: price.split(' ')[1])\n",
    "launched_price_india.sort_values()\n",
    "df['Launched Price (India)'].sort_values()"
   ]
  },
  {
   "cell_type": "code",
   "execution_count": 3,
   "id": "0fc194a4",
   "metadata": {
    "papermill": {
     "duration": 0.015014,
     "end_time": "2025-03-20T16:31:33.985577",
     "exception": false,
     "start_time": "2025-03-20T16:31:33.970563",
     "status": "completed"
    },
    "tags": []
   },
   "outputs": [
    {
     "data": {
      "text/plain": [
       "929    Not available\n",
       "173      PKR 100,000\n",
       "233      PKR 104,999\n",
       "134      PKR 105,000\n",
       "215      PKR 109,999\n",
       "           ...      \n",
       "401       PKR 99,999\n",
       "405       PKR 99,999\n",
       "906       PKR 99,999\n",
       "355       PKR 99,999\n",
       "588       PKR 99,999\n",
       "Name: Launched Price (Pakistan), Length: 930, dtype: object"
      ]
     },
     "execution_count": 3,
     "metadata": {},
     "output_type": "execute_result"
    }
   ],
   "source": [
    "df['Launched Price (Pakistan)'].sort_values()"
   ]
  },
  {
   "cell_type": "code",
   "execution_count": 4,
   "id": "9377ca1c",
   "metadata": {
    "papermill": {
     "duration": 0.01472,
     "end_time": "2025-03-20T16:31:34.004738",
     "exception": false,
     "start_time": "2025-03-20T16:31:33.990018",
     "status": "completed"
    },
    "tags": []
   },
   "outputs": [
    {
     "data": {
      "text/plain": [
       "495    CNY 1,050\n",
       "779    CNY 1,099\n",
       "262    CNY 1,099\n",
       "842    CNY 1,099\n",
       "418    CNY 1,099\n",
       "         ...    \n",
       "722      CNY 999\n",
       "886      CNY 999\n",
       "667      CNY 999\n",
       "793      CNY 999\n",
       "927      ¥13,999\n",
       "Name: Launched Price (China), Length: 930, dtype: object"
      ]
     },
     "execution_count": 4,
     "metadata": {},
     "output_type": "execute_result"
    }
   ],
   "source": [
    "df['Launched Price (China)'].sort_values()"
   ]
  },
  {
   "cell_type": "code",
   "execution_count": 5,
   "id": "7367dfc0",
   "metadata": {
    "papermill": {
     "duration": 0.014746,
     "end_time": "2025-03-20T16:31:34.023966",
     "exception": false,
     "start_time": "2025-03-20T16:31:34.009220",
     "status": "completed"
    },
    "tags": []
   },
   "outputs": [
    {
     "data": {
      "text/plain": [
       "17     USD 1,049\n",
       "742    USD 1,049\n",
       "29     USD 1,049\n",
       "7      USD 1,049\n",
       "66     USD 1,099\n",
       "         ...    \n",
       "568      USD 999\n",
       "28       USD 999\n",
       "282      USD 999\n",
       "524      USD 999\n",
       "376      USD 999\n",
       "Name: Launched Price (USA), Length: 930, dtype: object"
      ]
     },
     "execution_count": 5,
     "metadata": {},
     "output_type": "execute_result"
    }
   ],
   "source": [
    "df['Launched Price (USA)'].sort_values()"
   ]
  },
  {
   "cell_type": "code",
   "execution_count": 6,
   "id": "ffd00c2d",
   "metadata": {
    "papermill": {
     "duration": 0.015118,
     "end_time": "2025-03-20T16:31:34.043852",
     "exception": false,
     "start_time": "2025-03-20T16:31:34.028734",
     "status": "completed"
    },
    "tags": []
   },
   "outputs": [
    {
     "data": {
      "text/plain": [
       "421    AED 1,000\n",
       "590    AED 1,000\n",
       "425    AED 1,000\n",
       "451    AED 1,000\n",
       "441    AED 1,000\n",
       "         ...    \n",
       "403      AED 999\n",
       "900      AED 999\n",
       "317      AED 999\n",
       "307      AED 999\n",
       "717      AED 999\n",
       "Name: Launched Price (Dubai), Length: 930, dtype: object"
      ]
     },
     "execution_count": 6,
     "metadata": {},
     "output_type": "execute_result"
    }
   ],
   "source": [
    "df['Launched Price (Dubai)'].sort_values()"
   ]
  },
  {
   "cell_type": "code",
   "execution_count": 7,
   "id": "488b2a45",
   "metadata": {
    "papermill": {
     "duration": 0.012537,
     "end_time": "2025-03-20T16:31:34.060981",
     "exception": false,
     "start_time": "2025-03-20T16:31:34.048444",
     "status": "completed"
    },
    "tags": []
   },
   "outputs": [
    {
     "data": {
      "text/plain": [
       "13.999"
      ]
     },
     "execution_count": 7,
     "metadata": {},
     "output_type": "execute_result"
    }
   ],
   "source": [
    "float('13.999')"
   ]
  },
  {
   "cell_type": "code",
   "execution_count": 8,
   "id": "bf8cb862",
   "metadata": {
    "papermill": {
     "duration": 0.103358,
     "end_time": "2025-03-20T16:31:34.169447",
     "exception": true,
     "start_time": "2025-03-20T16:31:34.066089",
     "status": "failed"
    },
    "tags": []
   },
   "outputs": [
    {
     "ename": "ValueError",
     "evalue": "could not convert string to float: '1.04.999'",
     "output_type": "error",
     "traceback": [
      "\u001b[31m---------------------------------------------------------------------------\u001b[39m",
      "\u001b[31mValueError\u001b[39m                                Traceback (most recent call last)",
      "\u001b[36mCell\u001b[39m\u001b[36m \u001b[39m\u001b[32mIn[8]\u001b[39m\u001b[32m, line 1\u001b[39m\n\u001b[32m----> \u001b[39m\u001b[32m1\u001b[39m \u001b[38;5;28;43mfloat\u001b[39;49m\u001b[43m(\u001b[49m\u001b[33;43m\"\u001b[39;49m\u001b[33;43m1.04.999\u001b[39;49m\u001b[33;43m\"\u001b[39;49m\u001b[43m)\u001b[49m\n",
      "\u001b[31mValueError\u001b[39m: could not convert string to float: '1.04.999'"
     ]
    }
   ],
   "source": [
    "float(\"1.04.999\")"
   ]
  },
  {
   "cell_type": "code",
   "execution_count": 9,
   "id": "288a4747",
   "metadata": {
    "papermill": {
     "duration": null,
     "end_time": null,
     "exception": null,
     "start_time": null,
     "status": "pending"
    },
    "tags": []
   },
   "outputs": [
    {
     "data": {
      "text/plain": [
       "array(['INR 1,04,999', 'INR 1,09,999', 'INR 1,14,999', 'INR 10,499',\n",
       "       'INR 10,990', 'INR 10,999', 'INR 104,900', 'INR 104,999',\n",
       "       'INR 109,900', 'INR 109,999', 'INR 11,499', 'INR 11,990',\n",
       "       'INR 11,999', 'INR 114,900', 'INR 114,999', 'INR 119,900',\n",
       "       'INR 119,999', 'INR 12,499', 'INR 12,999', 'INR 124,999',\n",
       "       'INR 129,900', 'INR 129,999', 'INR 13,490', 'INR 13,499',\n",
       "       'INR 13,990', 'INR 13,999', 'INR 134,900', 'INR 134,999',\n",
       "       'INR 139,900', 'INR 139,999', 'INR 14,990', 'INR 14,999',\n",
       "       'INR 144,999', 'INR 149,900', 'INR 149,999', 'INR 15,999',\n",
       "       'INR 154,900', 'INR 159,900', 'INR 159,999', 'INR 16,990',\n",
       "       'INR 16,999', 'INR 164,999', 'INR 169,999', 'INR 17,499',\n",
       "       'INR 17,999', 'INR 174,900', 'INR 176,999', 'INR 179,900',\n",
       "       'INR 179,999', 'INR 18,000', 'INR 18,499', 'INR 18,990',\n",
       "       'INR 18,999', 'INR 19,000', 'INR 19,499', 'INR 19,990',\n",
       "       'INR 19,999', 'INR 199,900', 'INR 199,999', 'INR 20,000',\n",
       "       'INR 20,999', 'INR 200,999', 'INR 21,400', 'INR 21,990',\n",
       "       'INR 21,999', 'INR 22,990', 'INR 22,999', 'INR 23,999',\n",
       "       'INR 24,990', 'INR 24,999', 'INR 249,999', 'INR 25,999',\n",
       "       'INR 259,999', 'INR 26,990', 'INR 26,999', 'INR 27,990',\n",
       "       'INR 27,999', 'INR 274,999', 'INR 28,756', 'INR 28,999',\n",
       "       'INR 29,900', 'INR 29,999', 'INR 30,999', 'INR 31,990',\n",
       "       'INR 31,999', 'INR 32,990', 'INR 32,999', 'INR 33,990',\n",
       "       'INR 33,999', 'INR 34,999', 'INR 35,990', 'INR 35,999',\n",
       "       'INR 36,999', 'INR 37,999', 'INR 38,999', 'INR 39,900',\n",
       "       'INR 39,990', 'INR 39,999', 'INR 41,999', 'INR 42,999',\n",
       "       'INR 43,999', 'INR 44,999', 'INR 45,999', 'INR 46,999',\n",
       "       'INR 47,999', 'INR 49,900', 'INR 49,990', 'INR 49,999',\n",
       "       'INR 5,999', 'INR 50,999', 'INR 52,999', 'INR 53,999',\n",
       "       'INR 54,900', 'INR 54,999', 'INR 58,590', 'INR 58,999',\n",
       "       'INR 59,999', 'INR 6,999', 'INR 64,900', 'INR 64,999',\n",
       "       'INR 65,999', 'INR 67,999', 'INR 69,900', 'INR 69,999',\n",
       "       'INR 7,499', 'INR 7,999', 'INR 71,900', 'INR 72,999', 'INR 74,900',\n",
       "       'INR 74,999', 'INR 77,999', 'INR 79,900', 'INR 79,999',\n",
       "       'INR 8,499', 'INR 8,999', 'INR 84,900', 'INR 84,999', 'INR 85,999',\n",
       "       'INR 89,900', 'INR 89,999', 'INR 9,499', 'INR 9,990', 'INR 9,999',\n",
       "       'INR 94,900', 'INR 94,999', 'INR 99,900', 'INR 99,999'],\n",
       "      dtype=object)"
      ]
     },
     "execution_count": 9,
     "metadata": {},
     "output_type": "execute_result"
    }
   ],
   "source": [
    "df['Launched Price (India)'].sort_values().unique()"
   ]
  },
  {
   "cell_type": "code",
   "execution_count": 10,
   "id": "096793cf",
   "metadata": {
    "papermill": {
     "duration": null,
     "end_time": null,
     "exception": null,
     "start_time": null,
     "status": "pending"
    },
    "tags": []
   },
   "outputs": [
    {
     "data": {
      "text/plain": [
       "array(['Not available', 'PKR 100,000', 'PKR 104,999', 'PKR 105,000',\n",
       "       'PKR 109,999', 'PKR 119,999', 'PKR 120,000', 'PKR 124,999',\n",
       "       'PKR 129,999', 'PKR 134,999', 'PKR 139,999', 'PKR 140,000',\n",
       "       'PKR 149,999', 'PKR 15,999', 'PKR 150,000', 'PKR 159,999',\n",
       "       'PKR 160,000', 'PKR 161,500', 'PKR 164,999', 'PKR 169,999',\n",
       "       'PKR 170,000', 'PKR 174,999', 'PKR 179,999', 'PKR 18,499',\n",
       "       'PKR 18,999', 'PKR 180,000', 'PKR 184,999', 'PKR 189,999',\n",
       "       'PKR 19,999', 'PKR 194,999', 'PKR 197,000', 'PKR 199,999',\n",
       "       'PKR 200,000', 'PKR 204,999', 'PKR 209,999', 'PKR 21,999',\n",
       "       'PKR 214,999', 'PKR 219,999', 'PKR 22,499', 'PKR 22,999',\n",
       "       'PKR 224,999', 'PKR 229,999', 'PKR 23,999', 'PKR 230,000',\n",
       "       'PKR 234,999', 'PKR 239,999', 'PKR 24,999', 'PKR 244,999',\n",
       "       'PKR 249,999', 'PKR 25,000', 'PKR 25,999', 'PKR 250,000',\n",
       "       'PKR 259,999', 'PKR 26,999', 'PKR 260,000', 'PKR 264,999',\n",
       "       'PKR 269,999', 'PKR 27,999', 'PKR 274,999', 'PKR 279,999',\n",
       "       'PKR 28,000', 'PKR 28,999', 'PKR 280,000', 'PKR 284,999',\n",
       "       'PKR 289,999', 'PKR 29,999', 'PKR 294,999', 'PKR 299,999',\n",
       "       'PKR 30,999', 'PKR 300,000', 'PKR 304,999', 'PKR 309,999',\n",
       "       'PKR 31,999', 'PKR 314,999', 'PKR 319,999', 'PKR 32,999',\n",
       "       'PKR 320,000', 'PKR 324,999', 'PKR 330,000', 'PKR 334,999',\n",
       "       'PKR 339,999', 'PKR 34,999', 'PKR 344,999', 'PKR 349,999',\n",
       "       'PKR 35,000', 'PKR 35,999', 'PKR 350,000', 'PKR 354,999',\n",
       "       'PKR 359,999', 'PKR 36,999', 'PKR 360,000', 'PKR 364,999',\n",
       "       'PKR 369,999', 'PKR 37,999', 'PKR 38,999', 'PKR 380,000',\n",
       "       'PKR 384,999', 'PKR 389,999', 'PKR 39,999', 'PKR 390,000',\n",
       "       'PKR 399,999', 'PKR 40,000', 'PKR 400,000', 'PKR 41,999',\n",
       "       'PKR 42,999', 'PKR 420,000', 'PKR 429,999', 'PKR 430,000',\n",
       "       'PKR 44,999', 'PKR 449,999', 'PKR 45,000', 'PKR 45,999',\n",
       "       'PKR 450,000', 'PKR 46,999', 'PKR 460,000', 'PKR 469,999',\n",
       "       'PKR 47,999', 'PKR 48,999', 'PKR 480,000', 'PKR 49,999',\n",
       "       'PKR 50,000', 'PKR 500,000', 'PKR 52,000', 'PKR 52,999',\n",
       "       'PKR 530,000', 'PKR 54,999', 'PKR 544,999', 'PKR 55,000',\n",
       "       'PKR 55,999', 'PKR 550,000', 'PKR 56,999', 'PKR 57,999',\n",
       "       'PKR 58,999', 'PKR 59,999', 'PKR 60,000', 'PKR 604,999',\n",
       "       'PKR 61,999', 'PKR 62,999', 'PKR 64,999', 'PKR 65,000',\n",
       "       'PKR 66,220', 'PKR 68,000', 'PKR 69,999', 'PKR 70,000',\n",
       "       'PKR 71,220', 'PKR 72,999', 'PKR 74,999', 'PKR 75,000',\n",
       "       'PKR 79,999', 'PKR 80,000', 'PKR 84,999', 'PKR 85,000',\n",
       "       'PKR 85,999', 'PKR 89,999', 'PKR 94,999', 'PKR 95,000',\n",
       "       'PKR 99,999'], dtype=object)"
      ]
     },
     "execution_count": 10,
     "metadata": {},
     "output_type": "execute_result"
    }
   ],
   "source": [
    "df['Launched Price (Pakistan)'].sort_values().unique()"
   ]
  },
  {
   "cell_type": "code",
   "execution_count": 11,
   "id": "df4d3abf",
   "metadata": {
    "papermill": {
     "duration": null,
     "end_time": null,
     "exception": null,
     "start_time": null,
     "status": "pending"
    },
    "tags": []
   },
   "outputs": [
    {
     "data": {
      "text/plain": [
       "array(['CNY 1,050', 'CNY 1,099', 'CNY 1,100', 'CNY 1,199', 'CNY 1,200',\n",
       "       'CNY 1,250', 'CNY 1,299', 'CNY 1,300', 'CNY 1,350', 'CNY 1,399',\n",
       "       'CNY 1,400', 'CNY 1,499', 'CNY 1,500', 'CNY 1,550', 'CNY 1,599',\n",
       "       'CNY 1,600', 'CNY 1,699', 'CNY 1,700', 'CNY 1,799', 'CNY 1,800',\n",
       "       'CNY 1,899', 'CNY 1,900', 'CNY 1,998', 'CNY 1,999', 'CNY 10,088',\n",
       "       'CNY 10,388', 'CNY 10,399', 'CNY 10,688', 'CNY 10,999',\n",
       "       'CNY 11,199', 'CNY 11,288', 'CNY 11,999', 'CNY 12,999',\n",
       "       'CNY 13,499', 'CNY 13,999', 'CNY 14,499', 'CNY 14,999',\n",
       "       'CNY 15,999', 'CNY 17,999', 'CNY 17,999\\xa0', 'CNY 2,000',\n",
       "       'CNY 2,099', 'CNY 2,100', 'CNY 2,199', 'CNY 2,200', 'CNY 2,299',\n",
       "       'CNY 2,300', 'CNY 2,399', 'CNY 2,400', 'CNY 2,499', 'CNY 2,500',\n",
       "       'CNY 2,599', 'CNY 2,600', 'CNY 2,699', 'CNY 2,700', 'CNY 2,799',\n",
       "       'CNY 2,800', 'CNY 2,899', 'CNY 2,900', 'CNY 2,999', 'CNY 3,000',\n",
       "       'CNY 3,099', 'CNY 3,199', 'CNY 3,200', 'CNY 3,299', 'CNY 3,399',\n",
       "       'CNY 3,400', 'CNY 3,499', 'CNY 3,599', 'CNY 3,600', 'CNY 3,699',\n",
       "       'CNY 3,799', 'CNY 3,899', 'CNY 3,999', 'CNY 4,088', 'CNY 4,199',\n",
       "       'CNY 4,299', 'CNY 4,488', 'CNY 4,499', 'CNY 4,599', 'CNY 4,699',\n",
       "       'CNY 4,799', 'CNY 4,999', 'CNY 499', 'CNY 5,199', 'CNY 5,299',\n",
       "       'CNY 5,499', 'CNY 5,599', 'CNY 5,699', 'CNY 5,799', 'CNY 5,899',\n",
       "       'CNY 5,988', 'CNY 5,999', 'CNY 549', 'CNY 599', 'CNY 6,099',\n",
       "       'CNY 6,199', 'CNY 6,299', 'CNY 6,399', 'CNY 6,499', 'CNY 6,599',\n",
       "       'CNY 6,799', 'CNY 6,988', 'CNY 6,999', 'CNY 699', 'CNY 7,099',\n",
       "       'CNY 7,199', 'CNY 7,299', 'CNY 7,399', 'CNY 7,499', 'CNY 7,699',\n",
       "       'CNY 7,799', 'CNY 7,988', 'CNY 7,999', 'CNY 799', 'CNY 8,099',\n",
       "       'CNY 8,199', 'CNY 8,299', 'CNY 8,388', 'CNY 8,399', 'CNY 8,499',\n",
       "       'CNY 8,699', 'CNY 8,788', 'CNY 8,799', 'CNY 8,988', 'CNY 8,999',\n",
       "       'CNY 899', 'CNY 9,188', 'CNY 9,199', 'CNY 9,499', 'CNY 9,788',\n",
       "       'CNY 9,799', 'CNY 9,988', 'CNY 9,999', 'CNY 900', 'CNY 999',\n",
       "       '¥13,999'], dtype=object)"
      ]
     },
     "execution_count": 11,
     "metadata": {},
     "output_type": "execute_result"
    }
   ],
   "source": [
    "df['Launched Price (China)'].sort_values().unique()"
   ]
  },
  {
   "cell_type": "code",
   "execution_count": 12,
   "id": "70cc67f0",
   "metadata": {
    "papermill": {
     "duration": null,
     "end_time": null,
     "exception": null,
     "start_time": null,
     "status": "pending"
    },
    "tags": []
   },
   "outputs": [
    {
     "data": {
      "text/plain": [
       "array(['USD 1,049', 'USD 1,099', 'USD 1,199', 'USD 1,249', 'USD 1,299',\n",
       "       'USD 1,399', 'USD 1,499', 'USD 1,599', 'USD 1,699', 'USD 1,799',\n",
       "       'USD 1,899', 'USD 109', 'USD 119', 'USD 129', 'USD 130', 'USD 139',\n",
       "       'USD 149', 'USD 150', 'USD 159', 'USD 160', 'USD 169', 'USD 170',\n",
       "       'USD 1719', 'USD 179', 'USD 180', 'USD 189', 'USD 190', 'USD 199',\n",
       "       'USD 199.00', 'USD 2,259', 'USD 2,499', 'USD 2,599', 'USD 2,699',\n",
       "       'USD 2,799', 'USD 200', 'USD 210', 'USD 219', 'USD 220', 'USD 229',\n",
       "       'USD 229.00', 'USD 230', 'USD 239', 'USD 240', 'USD 249',\n",
       "       'USD 249.00', 'USD 250', 'USD 259', 'USD 260', 'USD 269',\n",
       "       'USD 270', 'USD 279', 'USD 279.00', 'USD 280', 'USD 289',\n",
       "       'USD 290', 'USD 299', 'USD 299.00', 'USD 300', 'USD 309.00',\n",
       "       'USD 310', 'USD 319', 'USD 320', 'USD 329', 'USD 329.00',\n",
       "       'USD 330', 'USD 340', 'USD 349', 'USD 349.00', 'USD 350',\n",
       "       'USD 360', 'USD 370', 'USD 374.90', 'USD 379', 'USD 379.00',\n",
       "       'USD 380', 'USD 396,22', 'USD 399', 'USD 399.00', 'USD 400',\n",
       "       'USD 420', 'USD 429', 'USD 429.00', 'USD 440', 'USD 449',\n",
       "       'USD 450', 'USD 470', 'USD 479', 'USD 499', 'USD 500', 'USD 529',\n",
       "       'USD 549', 'USD 599', 'USD 634.99', 'USD 649', 'USD 699',\n",
       "       'USD 729', 'USD 749', 'USD 79', 'USD 790.77', 'USD 799', 'USD 849',\n",
       "       'USD 877', 'USD 89', 'USD 899', 'USD 949', 'USD 99', 'USD 999'],\n",
       "      dtype=object)"
      ]
     },
     "execution_count": 12,
     "metadata": {},
     "output_type": "execute_result"
    }
   ],
   "source": [
    "df['Launched Price (USA)'].sort_values().unique()"
   ]
  },
  {
   "cell_type": "code",
   "execution_count": 13,
   "id": "eadf6505",
   "metadata": {
    "papermill": {
     "duration": null,
     "end_time": null,
     "exception": null,
     "start_time": null,
     "status": "pending"
    },
    "tags": []
   },
   "outputs": [
    {
     "data": {
      "text/plain": [
       "array(['AED 1,000', 'AED 1,020', 'AED 1,029', 'AED 1,030', 'AED 1,049',\n",
       "       'AED 1,050', 'AED 1,070', 'AED 1,099', 'AED 1,100', 'AED 1,140',\n",
       "       'AED 1,149', 'AED 1,150', 'AED 1,175', 'AED 1,199', 'AED 1,200',\n",
       "       'AED 1,210', 'AED 1,249', 'AED 1,250', 'AED 1,275', 'AED 1,280',\n",
       "       'AED 1,299', 'AED 1,300', 'AED 1,320', 'AED 1,330', 'AED 1,350',\n",
       "       'AED 1,390', 'AED 1,399', 'AED 1,400', 'AED 1,460', 'AED 1,499',\n",
       "       'AED 1,500', 'AED 1,520', 'AED 1,599', 'AED 1,620', 'AED 1,649',\n",
       "       'AED 1,675', 'AED 1,699', 'AED 1,700', 'AED 1,725', 'AED 1,799',\n",
       "       'AED 1,800', 'AED 1,840', 'AED 1,850', 'AED 1,899', 'AED 1,999',\n",
       "       'AED 10,499', 'AED 11,099', 'AED 2,049', 'AED 2,099', 'AED 2,199',\n",
       "       'AED 2,299', 'AED 2,399', 'AED 2,499', 'AED 2,599', 'AED 2,699',\n",
       "       'AED 2,799', 'AED 2,899', 'AED 2,999', 'AED 299', 'AED 3,099',\n",
       "       'AED 3,199', 'AED 3,299', 'AED 3,399', 'AED 3,499', 'AED 3,599',\n",
       "       'AED 3,699', 'AED 3,799', 'AED 3,899', 'AED 3,999', 'AED 349',\n",
       "       'AED 399', 'AED 4,099', 'AED 4,199', 'AED 4,299', 'AED 4,399',\n",
       "       'AED 4,499', 'AED 4,599', 'AED 4,699', 'AED 4,799', 'AED 4,899',\n",
       "       'AED 4,999', 'AED 449', 'AED 499', 'AED 5,099', 'AED 5,199',\n",
       "       'AED 5,299', 'AED 5,499', 'AED 5,799', 'AED 5,999', 'AED 500',\n",
       "       'AED 549', 'AED 550', 'AED 580', 'AED 599', 'AED 6,099',\n",
       "       'AED 6,199', 'AED 6,499', 'AED 6,599', 'AED 6,999', 'AED 600',\n",
       "       'AED 619', 'AED 620', 'AED 629', 'AED 649', 'AED 650', 'AED 660',\n",
       "       'AED 680', 'AED 699', 'AED 7,099', 'AED 7,199', 'AED 7,499',\n",
       "       'AED 7,699', 'AED 700', 'AED 720', 'AED 730', 'AED 740', 'AED 749',\n",
       "       'AED 750', 'AED 770', 'AED 780', 'AED 799', 'AED 8,699',\n",
       "       'AED 8,999', 'AED 800', 'AED 820', 'AED 830', 'AED 849', 'AED 850',\n",
       "       'AED 860', 'AED 870', 'AED 880', 'AED 899', 'AED 9,999', 'AED 900',\n",
       "       'AED 920', 'AED 925', 'AED 949', 'AED 950', 'AED 960', 'AED 970',\n",
       "       'AED 999'], dtype=object)"
      ]
     },
     "execution_count": 13,
     "metadata": {},
     "output_type": "execute_result"
    }
   ],
   "source": [
    "df['Launched Price (Dubai)'].sort_values().unique()"
   ]
  }
 ],
 "metadata": {
  "kaggle": {
   "accelerator": "none",
   "dataSources": [
    {
     "datasetId": 6689024,
     "sourceId": 10780255,
     "sourceType": "datasetVersion"
    }
   ],
   "dockerImageVersionId": 30918,
   "isGpuEnabled": false,
   "isInternetEnabled": false,
   "language": "python",
   "sourceType": "notebook"
  },
  "kernelspec": {
   "display_name": "Python 3 (ipykernel)",
   "language": "python",
   "name": "python3"
  },
  "language_info": {
   "codemirror_mode": {
    "name": "ipython",
    "version": 3
   },
   "file_extension": ".py",
   "mimetype": "text/x-python",
   "name": "python",
   "nbconvert_exporter": "python",
   "pygments_lexer": "ipython3",
   "version": "3.12.9"
  },
  "papermill": {
   "default_parameters": {},
   "duration": 4.508229,
   "end_time": "2025-03-20T16:31:34.692414",
   "environment_variables": {},
   "exception": true,
   "input_path": "__notebook__.ipynb",
   "output_path": "__notebook__.ipynb",
   "parameters": {},
   "start_time": "2025-03-20T16:31:30.184185",
   "version": "2.6.0"
  }
 },
 "nbformat": 4,
 "nbformat_minor": 5
}
